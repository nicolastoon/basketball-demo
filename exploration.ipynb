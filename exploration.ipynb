{
 "cells": [
  {
   "cell_type": "code",
   "execution_count": 1,
   "id": "40ba24a2",
   "metadata": {},
   "outputs": [],
   "source": [
    "import json"
   ]
  },
  {
   "cell_type": "code",
   "execution_count": 3,
   "id": "e46919e2",
   "metadata": {},
   "outputs": [
    {
     "name": "stdout",
     "output_type": "stream",
     "text": [
      "read done!\n",
      "write done!\n"
     ]
    }
   ],
   "source": [
    "with open('data/RaptorsVHornets.json', 'r') as f_out:\n",
    "    raw_data = json.load(f_out)\n",
    "print('read done!')\n",
    "\n",
    "with open('data/RaptorsVHornets_nice.json', 'w') as f_in:\n",
    "    json.dump(raw_data, f_in, indent=4)\n",
    "print('write done!')"
   ]
  },
  {
   "cell_type": "code",
   "execution_count": null,
   "id": "82ce79a8",
   "metadata": {},
   "outputs": [],
   "source": []
  }
 ],
 "metadata": {
  "kernelspec": {
   "display_name": "base",
   "language": "python",
   "name": "python3"
  },
  "language_info": {
   "codemirror_mode": {
    "name": "ipython",
    "version": 3
   },
   "file_extension": ".py",
   "mimetype": "text/x-python",
   "name": "python",
   "nbconvert_exporter": "python",
   "pygments_lexer": "ipython3",
   "version": "3.12.8"
  }
 },
 "nbformat": 4,
 "nbformat_minor": 5
}
